{
 "cells": [
  {
   "cell_type": "code",
   "execution_count": 1,
   "metadata": {},
   "outputs": [],
   "source": [
    "file = open(\"userlog.log\")\n",
    "data = file.readlines()\n",
    "\n",
    "user=[]\n",
    "for i in range(5000):\n",
    "    each_line_list = data[i].split()\n",
    "    each_line_list_user = each_line_list[4]\n",
    "    user.append(each_line_list_user)\n",
    "\n",
    "user_set=set(user)\n",
    "\n",
    "dict={}\n",
    "for j in list(user_set):\n",
    "    if j.split(\"@\")[1] in dict:\n",
    "        dict[j.split(\"@\")[1]] += 1\n",
    "    else:\n",
    "        dict[j.split(\"@\")[1]] = 1\n",
    "#print(dict)\n",
    "\n",
    "result=\"=========================\\n===\"+ \" DOMAIN COUNT (\" + str(len(dict)) + \" DOMAINS)===\\n=========================\\n\"\n",
    "for element in dict:\n",
    "    result += element + \"\\t\\t\"+str(dict[element])+\"\\n\"\n",
    "    # print(element, dict[element])\n",
    "#print(result)\n",
    "\n",
    "file2 = open(\"domain_report.txt\", \"w\")\n",
    "file2.write(result)\n",
    "file2.close()\n",
    "#print(open(\"domain_report.txt\").read())"
   ]
  }
 ],
 "metadata": {
  "kernelspec": {
   "display_name": "Python 3",
   "language": "python",
   "name": "python3"
  },
  "language_info": {
   "codemirror_mode": {
    "name": "ipython",
    "version": 3
   },
   "file_extension": ".py",
   "mimetype": "text/x-python",
   "name": "python",
   "nbconvert_exporter": "python",
   "pygments_lexer": "ipython3",
   "version": "3.8.5"
  }
 },
 "nbformat": 4,
 "nbformat_minor": 4
}
